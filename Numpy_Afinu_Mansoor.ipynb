{
  "nbformat": 4,
  "nbformat_minor": 0,
  "metadata": {
    "colab": {
      "provenance": []
    },
    "kernelspec": {
      "name": "python3",
      "display_name": "Python 3"
    },
    "language_info": {
      "name": "python"
    }
  },
  "cells": [
    {
      "cell_type": "markdown",
      "source": [
        "# **Creating NumPy Arrays**"
      ],
      "metadata": {
        "id": "orIsDlTjsfQU"
      }
    },
    {
      "cell_type": "code",
      "execution_count": null,
      "metadata": {
        "colab": {
          "base_uri": "https://localhost:8080/"
        },
        "id": "28Dg-WscsXEb",
        "outputId": "48776c8a-c196-422c-f514-6d3abf44e514"
      },
      "outputs": [
        {
          "output_type": "stream",
          "name": "stdout",
          "text": [
            "[1 2 3]\n",
            "[[1 2]\n",
            " [3 4]]\n",
            "[[0. 0. 0.]\n",
            " [0. 0. 0.]]\n",
            "[[1. 1. 1.]\n",
            " [1. 1. 1.]]\n"
          ]
        }
      ],
      "source": [
        "import numpy as np\n",
        "\n",
        "# Creating a 1D array\n",
        "array1 = np.array([1, 2, 3])\n",
        "print(array1)  # Output: [1 2 3]\n",
        "\n",
        "# Creating a 2D array\n",
        "array2 = np.array([[1, 2], [3, 4]])\n",
        "print(array2)\n",
        "# Output:\n",
        "# [[1 2]\n",
        "#  [3 4]]\n",
        "\n",
        "# Creating arrays with zeros, ones, or empty values\n",
        "zeros_array = np.zeros((2, 3))\n",
        "print(zeros_array)\n",
        "# Output:\n",
        "# [[0. 0. 0.]\n",
        "#  [0. 0. 0.]]\n",
        "\n",
        "ones_array = np.ones((2, 3))\n",
        "print(ones_array)\n",
        "# Output:\n",
        "# [[1. 1. 1.]\n",
        "#  [1. 1. 1.]]\n"
      ]
    },
    {
      "cell_type": "markdown",
      "source": [
        "# **Array Properties**"
      ],
      "metadata": {
        "id": "NTGdgS_ys0r8"
      }
    },
    {
      "cell_type": "code",
      "source": [
        "array = np.array([[1, 2, 3], [4, 5, 6]])\n",
        "\n",
        "# Shape of the array\n",
        "print(array.shape)  # Output: (2, 3)\n",
        "\n",
        "# Number of dimensions\n",
        "print(array.ndim)  # Output: 2\n",
        "\n",
        "# Total number of elements\n",
        "print(array.size)  # Output: 6\n",
        "\n",
        "# Data type of elements\n",
        "print(array.dtype)  # Output: int32 (may vary depending on your system)\n"
      ],
      "metadata": {
        "colab": {
          "base_uri": "https://localhost:8080/"
        },
        "id": "FJjv0IoOs1tK",
        "outputId": "4704c7b8-07b3-4ba3-cf49-6a7b76fa30c2"
      },
      "execution_count": null,
      "outputs": [
        {
          "output_type": "stream",
          "name": "stdout",
          "text": [
            "(2, 3)\n",
            "2\n",
            "6\n",
            "int64\n"
          ]
        }
      ]
    },
    {
      "cell_type": "markdown",
      "source": [
        "# **Accessing and Modifying Elements**"
      ],
      "metadata": {
        "id": "n5AhUN8nqO0V"
      }
    },
    {
      "cell_type": "code",
      "source": [
        "array = np.array([[10, 20, 30], [40, 50, 60]])\n",
        "\n",
        "# Accessing elements\n",
        "print(array[0, 1])  # Output: 20 (row 0, column 1)\n",
        "\n",
        "# Slicing\n",
        "print(array[:, 1])  # Output: [20 50] (all rows, column 1)\n",
        "\n",
        "# Modifying elements\n",
        "array[1, 2] = 100\n",
        "print(array)\n",
        "# Output:\n",
        "# [[ 10  20  30]\n",
        "#  [ 40  50 100]]\n"
      ],
      "metadata": {
        "colab": {
          "base_uri": "https://localhost:8080/"
        },
        "id": "xWRNBRPUqP4w",
        "outputId": "30cc1c01-c9b9-4ffd-f14e-26dc18e06fba"
      },
      "execution_count": null,
      "outputs": [
        {
          "output_type": "stream",
          "name": "stdout",
          "text": [
            "20\n",
            "[20 50]\n",
            "[[ 10  20  30]\n",
            " [ 40  50 100]]\n"
          ]
        }
      ]
    },
    {
      "cell_type": "markdown",
      "source": [
        "# **Mathematical Operations**"
      ],
      "metadata": {
        "id": "Dty0a0MUqebj"
      }
    },
    {
      "cell_type": "code",
      "source": [
        "array = np.array([1, 2, 3, 4])\n",
        "\n",
        "# Element-wise operations\n",
        "print(array + 10)  # Output: [11 12 13 14]\n",
        "print(array * 2)   # Output: [2 4 6 8]\n",
        "\n",
        "# Universal functions (ufuncs)\n",
        "print(np.sqrt(array))  # Output: [1. 1.41421356 1.73205081 2. ]\n",
        "print(np.sum(array))   # Output: 10\n",
        "print(np.mean(array))  # Output: 2.5\n"
      ],
      "metadata": {
        "colab": {
          "base_uri": "https://localhost:8080/"
        },
        "id": "t4oAAOq0qgyh",
        "outputId": "a8679341-0038-4e9e-c739-be6758158c19"
      },
      "execution_count": null,
      "outputs": [
        {
          "output_type": "stream",
          "name": "stdout",
          "text": [
            "[11 12 13 14]\n",
            "[2 4 6 8]\n",
            "[1.         1.41421356 1.73205081 2.        ]\n",
            "10\n",
            "2.5\n"
          ]
        }
      ]
    },
    {
      "cell_type": "markdown",
      "source": [
        "# **Array Reshaping**"
      ],
      "metadata": {
        "id": "waV3OwwwqsSb"
      }
    },
    {
      "cell_type": "code",
      "source": [
        "array = np.array([1, 2, 3, 4, 5, 6])\n",
        "\n",
        "# Reshaping to 2x3\n",
        "reshaped_array = array.reshape((2, 3))\n",
        "print(reshaped_array)\n",
        "# Output:\n",
        "# [[1 2 3]\n",
        "#  [4 5 6]]\n"
      ],
      "metadata": {
        "id": "IOjr2LbxqtVR"
      },
      "execution_count": null,
      "outputs": []
    },
    {
      "cell_type": "markdown",
      "source": [
        "# **Stacking and Splitting Arrays**"
      ],
      "metadata": {
        "id": "M_TZO1agqyjn"
      }
    },
    {
      "cell_type": "code",
      "source": [
        "array1 = np.array([1, 2, 3])\n",
        "array2 = np.array([4, 5, 6])\n",
        "\n",
        "# Stacking vertically\n",
        "vstacked = np.vstack((array1, array2))\n",
        "print(vstacked)\n",
        "# Output:\n",
        "# [[1 2 3]\n",
        "#  [4 5 6]]\n",
        "\n",
        "# Stacking horizontally\n",
        "hstacked = np.hstack((array1, array2))\n",
        "print(hstacked)  # Output: [1 2 3 4 5 6]\n"
      ],
      "metadata": {
        "id": "85_TS6heq2Qm"
      },
      "execution_count": null,
      "outputs": []
    },
    {
      "cell_type": "markdown",
      "source": [
        "# **Array Broadcasting**"
      ],
      "metadata": {
        "id": "SUfdOFx39gdB"
      }
    },
    {
      "cell_type": "code",
      "source": [
        "array = np.array([[1, 2, 3], [4, 5, 6]])\n",
        "scalar = 10\n",
        "\n",
        "# Adding a scalar to all elements\n",
        "print(array + scalar)\n",
        "# Output:\n",
        "# [[11 12 13]\n",
        "#  [14 15 16]]\n"
      ],
      "metadata": {
        "id": "xtaELCzS9hle"
      },
      "execution_count": null,
      "outputs": []
    },
    {
      "cell_type": "markdown",
      "source": [
        "# **Filtering and Boolean Indexing**"
      ],
      "metadata": {
        "id": "FSvGEHcg9uz0"
      }
    },
    {
      "cell_type": "code",
      "source": [
        "array = np.array([10, 20, 30, 40, 50])\n",
        "\n",
        "# Filtering elements greater than 25\n",
        "filtered = array[array > 25]\n",
        "print(filtered)  # Output: [30 40 50]\n",
        "\n",
        "# Boolean indexing\n",
        "bool_index = array % 20 == 0\n",
        "print(array[bool_index])  # Output: [20 40]\n"
      ],
      "metadata": {
        "id": "XdB46D6V9v4h"
      },
      "execution_count": null,
      "outputs": []
    },
    {
      "cell_type": "markdown",
      "source": [
        "# **Random Number Generation**"
      ],
      "metadata": {
        "id": "NkEZnuPr99TJ"
      }
    },
    {
      "cell_type": "code",
      "source": [
        "# Generate random numbers\n",
        "random_array = np.random.rand(3, 2)  # 3x2 array of random values\n",
        "print(random_array)\n",
        "\n",
        "# Random integers\n",
        "random_integers = np.random.randint(1, 10, size=(2, 3))\n",
        "print(random_integers)\n"
      ],
      "metadata": {
        "colab": {
          "base_uri": "https://localhost:8080/",
          "height": 211
        },
        "id": "9YapKzf89-U6",
        "outputId": "1ad3a6d2-dcca-4068-e361-11161c114367"
      },
      "execution_count": null,
      "outputs": [
        {
          "output_type": "error",
          "ename": "NameError",
          "evalue": "name 'np' is not defined",
          "traceback": [
            "\u001b[0;31m---------------------------------------------------------------------------\u001b[0m",
            "\u001b[0;31mNameError\u001b[0m                                 Traceback (most recent call last)",
            "\u001b[0;32m<ipython-input-1-bef08731248a>\u001b[0m in \u001b[0;36m<cell line: 0>\u001b[0;34m()\u001b[0m\n\u001b[1;32m      1\u001b[0m \u001b[0;31m# Generate random numbers\u001b[0m\u001b[0;34m\u001b[0m\u001b[0;34m\u001b[0m\u001b[0m\n\u001b[0;32m----> 2\u001b[0;31m \u001b[0mrandom_array\u001b[0m \u001b[0;34m=\u001b[0m \u001b[0mnp\u001b[0m\u001b[0;34m.\u001b[0m\u001b[0mrandom\u001b[0m\u001b[0;34m.\u001b[0m\u001b[0mrand\u001b[0m\u001b[0;34m(\u001b[0m\u001b[0;36m3\u001b[0m\u001b[0;34m,\u001b[0m \u001b[0;36m2\u001b[0m\u001b[0;34m)\u001b[0m  \u001b[0;31m# 3x2 array of random values\u001b[0m\u001b[0;34m\u001b[0m\u001b[0;34m\u001b[0m\u001b[0m\n\u001b[0m\u001b[1;32m      3\u001b[0m \u001b[0mprint\u001b[0m\u001b[0;34m(\u001b[0m\u001b[0mrandom_array\u001b[0m\u001b[0;34m)\u001b[0m\u001b[0;34m\u001b[0m\u001b[0;34m\u001b[0m\u001b[0m\n\u001b[1;32m      4\u001b[0m \u001b[0;34m\u001b[0m\u001b[0m\n\u001b[1;32m      5\u001b[0m \u001b[0;31m# Random integers\u001b[0m\u001b[0;34m\u001b[0m\u001b[0;34m\u001b[0m\u001b[0m\n",
            "\u001b[0;31mNameError\u001b[0m: name 'np' is not defined"
          ]
        }
      ]
    },
    {
      "cell_type": "markdown",
      "source": [
        "# **Linear Algebra Operations**"
      ],
      "metadata": {
        "id": "kf7sUHx5-PHV"
      }
    },
    {
      "cell_type": "code",
      "source": [
        "matrix1 = np.array([[1, 2], [3, 4]])\n",
        "matrix2 = np.array([[5, 6], [7, 8]])\n",
        "\n",
        "# Matrix multiplication\n",
        "result = np.dot(matrix1, matrix2)\n",
        "print(result)\n",
        "# Output:\n",
        "# [[19 22]\n",
        "#  [43 50]]\n",
        "\n",
        "# Transpose of a matrix\n",
        "transpose = np.transpose(matrix1)\n",
        "print(transpose)\n",
        "# Output:\n",
        "# [[1 3]\n",
        "#  [2 4]]\n"
      ],
      "metadata": {
        "id": "rtVLl1Dz-QM2"
      },
      "execution_count": null,
      "outputs": []
    },
    {
      "cell_type": "markdown",
      "source": [
        "# **Saving and Loading Arrays**"
      ],
      "metadata": {
        "id": "WUNg8UF3-VAn"
      }
    },
    {
      "cell_type": "code",
      "source": [
        "array = np.array([1, 2, 3, 4, 5])\n",
        "\n",
        "# Save to a file\n",
        "np.save(\"my_array.npy\", array)\n",
        "\n",
        "# Load from a file\n",
        "loaded_array = np.load(\"my_array.npy\")\n",
        "print(loaded_array)  # Output: [1 2 3 4 5]\n"
      ],
      "metadata": {
        "id": "43tOl0LZ-WDg"
      },
      "execution_count": null,
      "outputs": []
    },
    {
      "cell_type": "markdown",
      "source": [
        "# **Sorting and Searching**"
      ],
      "metadata": {
        "id": "hx-2rwki-Z1V"
      }
    },
    {
      "cell_type": "code",
      "source": [
        "array = np.array([3, 1, 4, 1, 5, 9])\n",
        "\n",
        "# Sorting the array\n",
        "sorted_array = np.sort(array)\n",
        "print(sorted_array)  # Output: [1 1 3 4 5 9]\n",
        "\n",
        "# Searching for an element\n",
        "index = np.where(array == 4)\n",
        "print(index)  # Output: (array([2]),) (index of 4)\n"
      ],
      "metadata": {
        "id": "KgfcF0PP-a5V"
      },
      "execution_count": null,
      "outputs": []
    },
    {
      "cell_type": "markdown",
      "source": [
        "# **Aggregation Functions**"
      ],
      "metadata": {
        "id": "GPab_kPV-flh"
      }
    },
    {
      "cell_type": "code",
      "source": [
        "array = np.array([1, 2, 3, 4, 5])\n",
        "\n",
        "# Minimum, maximum, and sum\n",
        "print(np.min(array))  # Output: 1\n",
        "print(np.max(array))  # Output: 5\n",
        "print(np.sum(array))  # Output: 15\n",
        "\n",
        "# Standard deviation and variance\n",
        "print(np.std(array))  # Output: 1.4142135623730951\n",
        "print(np.var(array))  # Output: 2.0\n"
      ],
      "metadata": {
        "id": "xjYOFO3Y-gz-"
      },
      "execution_count": null,
      "outputs": []
    },
    {
      "cell_type": "markdown",
      "source": [
        "# **Handling Missing Data**"
      ],
      "metadata": {
        "id": "htoRxDcR-kXN"
      }
    },
    {
      "cell_type": "code",
      "source": [
        "array = np.array([1, np.nan, 3, 4])\n",
        "\n",
        "# Checking for NaN values\n",
        "print(np.isnan(array))  # Output: [False  True False False]\n",
        "\n",
        "# Replacing NaN with a specific value\n",
        "array[np.isnan(array)] = 0\n",
        "print(array)  # Output: [1. 0. 3. 4.]\n"
      ],
      "metadata": {
        "id": "OGt1hF_Q-lZD"
      },
      "execution_count": null,
      "outputs": []
    }
  ]
}